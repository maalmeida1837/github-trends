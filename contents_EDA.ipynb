{
 "cells": [
  {
   "cell_type": "code",
   "execution_count": 27,
   "metadata": {
    "collapsed": false
   },
   "outputs": [],
   "source": [
    "from collections import Counter\n",
    "from itertools import chain, combinations\n",
    "import json\n",
    "import matplotlib.pyplot as plt\n",
    "import numpy as np\n",
    "import pandas as pd\n",
    "import seaborn as sns\n",
    "%matplotlib inline\n",
    "\n",
    "sns.set(font_scale=2)"
   ]
  },
  {
   "cell_type": "markdown",
   "metadata": {},
   "source": [
    "# Load one Python contents file for EDA\n",
    "JSON to Pandas"
   ]
  },
  {
   "cell_type": "code",
   "execution_count": 28,
   "metadata": {
    "collapsed": true
   },
   "outputs": [],
   "source": [
    "filename = 'data/contents_py_000000000000'"
   ]
  },
  {
   "cell_type": "code",
   "execution_count": 29,
   "metadata": {
    "collapsed": false
   },
   "outputs": [],
   "source": [
    "data = []\n",
    "for line in open(filename, 'r'):\n",
    "    data.append(json.loads(line))"
   ]
  },
  {
   "cell_type": "code",
   "execution_count": 4,
   "metadata": {
    "collapsed": false
   },
   "outputs": [
    {
     "data": {
      "text/plain": [
       "{u'binary': True,\n",
       " u'copies': u'1',\n",
       " u'id': u'910bd1ad171208ad137568fcfe61d19490863131',\n",
       " u'sample_path': u'venv/lib/python2.7/site-packages/django/utils/synch.py',\n",
       " u'sample_repo_name': u'andreamdp/residencias',\n",
       " u'size': u'2768'}"
      ]
     },
     "execution_count": 4,
     "metadata": {},
     "output_type": "execute_result"
    }
   ],
   "source": [
    "data[0]"
   ]
  },
  {
   "cell_type": "code",
   "execution_count": 5,
   "metadata": {
    "collapsed": false
   },
   "outputs": [
    {
     "data": {
      "text/plain": [
       "{u'binary': False,\n",
       " u'copies': u'1',\n",
       " u'id': u'fe1417ea673edb9d883b3ab526ef187f38986dc7',\n",
       " u'sample_path': u'unittest/test_starmap1.py',\n",
       " u'sample_repo_name': u'm1griffin/arrayfunc',\n",
       " u'size': u'7863035'}"
      ]
     },
     "execution_count": 5,
     "metadata": {},
     "output_type": "execute_result"
    }
   ],
   "source": [
    "data[1]"
   ]
  },
  {
   "cell_type": "code",
   "execution_count": 30,
   "metadata": {
    "collapsed": false
   },
   "outputs": [],
   "source": [
    "df = pd.read_json(json.dumps(data), orient='records')"
   ]
  },
  {
   "cell_type": "code",
   "execution_count": 70,
   "metadata": {
    "collapsed": false
   },
   "outputs": [
    {
     "data": {
      "text/html": [
       "<div>\n",
       "<table border=\"1\" class=\"dataframe\">\n",
       "  <thead>\n",
       "    <tr style=\"text-align: right;\">\n",
       "      <th></th>\n",
       "      <th>binary</th>\n",
       "      <th>content</th>\n",
       "      <th>copies</th>\n",
       "      <th>id</th>\n",
       "      <th>sample_path</th>\n",
       "      <th>sample_repo_name</th>\n",
       "      <th>size</th>\n",
       "    </tr>\n",
       "  </thead>\n",
       "  <tbody>\n",
       "    <tr>\n",
       "      <th>24813</th>\n",
       "      <td>False</td>\n",
       "      <td># This program is free software; you can redis...</td>\n",
       "      <td>235</td>\n",
       "      <td>336f68438e751e56df9b3310283c5376dd4e9d23</td>\n",
       "      <td>suds/mx/basic.py</td>\n",
       "      <td>rootart/python-suds-fork</td>\n",
       "      <td>1657</td>\n",
       "    </tr>\n",
       "    <tr>\n",
       "      <th>24814</th>\n",
       "      <td>False</td>\n",
       "      <td># mock.py\\n# Test tools for mocking and patchi...</td>\n",
       "      <td>750</td>\n",
       "      <td>073869a1f12a3b7e5bbd6d09ac50c861ebfc90ae</td>\n",
       "      <td>static/Brython3.1.1-20150328-091302/Lib/unitte...</td>\n",
       "      <td>40223108/-2015cd_midterm</td>\n",
       "      <td>71473</td>\n",
       "    </tr>\n",
       "    <tr>\n",
       "      <th>24815</th>\n",
       "      <td>False</td>\n",
       "      <td># Software License Agreement (BSD License)\\n#\\...</td>\n",
       "      <td>244</td>\n",
       "      <td>372c1df45e25fd6b284d384b1b606ec23f776c95</td>\n",
       "      <td>mk/PX4/Tools/genmsg/src/genmsg/deps.py</td>\n",
       "      <td>aaddaamm30/auto_quad</td>\n",
       "      <td>3993</td>\n",
       "    </tr>\n",
       "    <tr>\n",
       "      <th>24816</th>\n",
       "      <td>False</td>\n",
       "      <td># Software License Agreement (BSD License)\\n#\\...</td>\n",
       "      <td>244</td>\n",
       "      <td>4478dbcd5c84928e598dc037b7f33f4b9033bfe9</td>\n",
       "      <td>mk/PX4/Tools/genmsg/src/genmsg/template_tools.py</td>\n",
       "      <td>guludo/ardupilot-1</td>\n",
       "      <td>9443</td>\n",
       "    </tr>\n",
       "    <tr>\n",
       "      <th>24817</th>\n",
       "      <td>False</td>\n",
       "      <td># -*- encoding: utf-8 -*-\\n###################...</td>\n",
       "      <td>247</td>\n",
       "      <td>d5b1c298c0b25ee6ce5d0e7f3543b7475cc96c16</td>\n",
       "      <td>addons/account_asset/account_asset_invoice.py</td>\n",
       "      <td>0k/odoo</td>\n",
       "      <td>3070</td>\n",
       "    </tr>\n",
       "  </tbody>\n",
       "</table>\n",
       "</div>"
      ],
      "text/plain": [
       "      binary                                            content  copies  \\\n",
       "24813  False  # This program is free software; you can redis...     235   \n",
       "24814  False  # mock.py\\n# Test tools for mocking and patchi...     750   \n",
       "24815  False  # Software License Agreement (BSD License)\\n#\\...     244   \n",
       "24816  False  # Software License Agreement (BSD License)\\n#\\...     244   \n",
       "24817  False  # -*- encoding: utf-8 -*-\\n###################...     247   \n",
       "\n",
       "                                             id  \\\n",
       "24813  336f68438e751e56df9b3310283c5376dd4e9d23   \n",
       "24814  073869a1f12a3b7e5bbd6d09ac50c861ebfc90ae   \n",
       "24815  372c1df45e25fd6b284d384b1b606ec23f776c95   \n",
       "24816  4478dbcd5c84928e598dc037b7f33f4b9033bfe9   \n",
       "24817  d5b1c298c0b25ee6ce5d0e7f3543b7475cc96c16   \n",
       "\n",
       "                                             sample_path  \\\n",
       "24813                                   suds/mx/basic.py   \n",
       "24814  static/Brython3.1.1-20150328-091302/Lib/unitte...   \n",
       "24815             mk/PX4/Tools/genmsg/src/genmsg/deps.py   \n",
       "24816   mk/PX4/Tools/genmsg/src/genmsg/template_tools.py   \n",
       "24817      addons/account_asset/account_asset_invoice.py   \n",
       "\n",
       "               sample_repo_name   size  \n",
       "24813  rootart/python-suds-fork   1657  \n",
       "24814  40223108/-2015cd_midterm  71473  \n",
       "24815      aaddaamm30/auto_quad   3993  \n",
       "24816        guludo/ardupilot-1   9443  \n",
       "24817                   0k/odoo   3070  "
      ]
     },
     "execution_count": 70,
     "metadata": {},
     "output_type": "execute_result"
    }
   ],
   "source": [
    "df.head()"
   ]
  },
  {
   "cell_type": "code",
   "execution_count": 71,
   "metadata": {
    "collapsed": false
   },
   "outputs": [
    {
     "name": "stdout",
     "output_type": "stream",
     "text": [
      "<class 'pandas.core.frame.DataFrame'>\n",
      "Int64Index: 24818 entries, 0 to 24817\n",
      "Data columns (total 7 columns):\n",
      "binary              24818 non-null bool\n",
      "content             24804 non-null object\n",
      "copies              24818 non-null int64\n",
      "id                  24818 non-null object\n",
      "sample_path         24818 non-null object\n",
      "sample_repo_name    24818 non-null object\n",
      "size                24818 non-null int64\n",
      "dtypes: bool(1), int64(2), object(4)\n",
      "memory usage: 1.3+ MB\n"
     ]
    }
   ],
   "source": [
    "df.info()"
   ]
  },
  {
   "cell_type": "code",
   "execution_count": 10,
   "metadata": {
    "collapsed": false
   },
   "outputs": [],
   "source": [
    "# Remove rows without content\n",
    "df = df[df['content'].notnull()]"
   ]
  },
  {
   "cell_type": "markdown",
   "metadata": {},
   "source": [
    "# Extract package names from code content\n",
    "- from () import module\n",
    "- import ()\n",
    "For the full analysis, package names were extracted BigQuery using REGEXP_EXTRACT."
   ]
  },
  {
   "cell_type": "code",
   "execution_count": 116,
   "metadata": {
    "collapsed": false
   },
   "outputs": [],
   "source": [
    "def extract_package_names(df):\n",
    "    '''\n",
    "    Input (df): Pandas dataframe with code content column named 'content'\n",
    "    Output (df): Dataframe with added column of lists - of packages imported for each code content\n",
    "    '''\n",
    "    # Match package names following 'from' or following 'import', but not those following 'from ... import'\n",
    "    df['packages'] = df['content'].str.findall(r\"from ([\\w-]+) import [\\w*-]+|import ([\\w-]+)\")\n",
    "    # Flatten packages into one list\n",
    "    df['packages'] = df['packages'].apply(lambda x: list(set([i for i in chain.from_iterable(x) if i != ''])))\n",
    "    # NaN for rows with no package imports \n",
    "    df['packages'] = df['packages'].map(lambda x: np.NaN if len(x)==0 else x)\n",
    "    return df"
   ]
  },
  {
   "cell_type": "code",
   "execution_count": 117,
   "metadata": {
    "collapsed": false
   },
   "outputs": [],
   "source": [
    "df = extract_package_names(df)"
   ]
  },
  {
   "cell_type": "code",
   "execution_count": 75,
   "metadata": {
    "collapsed": false
   },
   "outputs": [
    {
     "data": {
      "text/html": [
       "<div>\n",
       "<table border=\"1\" class=\"dataframe\">\n",
       "  <thead>\n",
       "    <tr style=\"text-align: right;\">\n",
       "      <th></th>\n",
       "      <th>binary</th>\n",
       "      <th>content</th>\n",
       "      <th>copies</th>\n",
       "      <th>id</th>\n",
       "      <th>sample_path</th>\n",
       "      <th>sample_repo_name</th>\n",
       "      <th>size</th>\n",
       "      <th>packages</th>\n",
       "    </tr>\n",
       "  </thead>\n",
       "  <tbody>\n",
       "    <tr>\n",
       "      <th>12</th>\n",
       "      <td>False</td>\n",
       "      <td>#!/usr/bin/env python\\nimport os\\nimport sys\\n...</td>\n",
       "      <td>1</td>\n",
       "      <td>57bd95b174f569a8a8463182feb9f85cab63a1a8</td>\n",
       "      <td>manage.py</td>\n",
       "      <td>allenmyao/cs242-message-board</td>\n",
       "      <td>256</td>\n",
       "      <td>[os, sys, execute_from_command_line]</td>\n",
       "    </tr>\n",
       "    <tr>\n",
       "      <th>13</th>\n",
       "      <td>False</td>\n",
       "      <td>class TRECS_IMAGE(DataClassification):\\n    na...</td>\n",
       "      <td>1</td>\n",
       "      <td>8dd5ebb2bac27e9762e3c56fb00234a09ecc3806</td>\n",
       "      <td>trunk/dontload-astrodata_Gemini/ADCONFIG_Gemin...</td>\n",
       "      <td>pyrrho314/recipesystem</td>\n",
       "      <td>256</td>\n",
       "      <td>NaN</td>\n",
       "    </tr>\n",
       "    <tr>\n",
       "      <th>14</th>\n",
       "      <td>False</td>\n",
       "      <td>import urllib2\\n\\ni = 1\\ncon = urllib2.urlopen...</td>\n",
       "      <td>1</td>\n",
       "      <td>6d158b74c2e67e6f597b77c2f329374c94953937</td>\n",
       "      <td>scripts/img.py</td>\n",
       "      <td>XiaJieCom/change</td>\n",
       "      <td>256</td>\n",
       "      <td>[urllib2]</td>\n",
       "    </tr>\n",
       "    <tr>\n",
       "      <th>15</th>\n",
       "      <td>False</td>\n",
       "      <td># -*- coding: utf-8 -*-\\n\\n\"\"\"\\nFunctions for ...</td>\n",
       "      <td>1</td>\n",
       "      <td>68115582fcec043538bd6524b464522f8eac6ca5</td>\n",
       "      <td>sheldon/utils/logger.py</td>\n",
       "      <td>sevazhidkov/sheldon</td>\n",
       "      <td>512</td>\n",
       "      <td>[logging]</td>\n",
       "    </tr>\n",
       "    <tr>\n",
       "      <th>16</th>\n",
       "      <td>False</td>\n",
       "      <td># OeQ autogenerated correlation for 'Window/Wa...</td>\n",
       "      <td>1</td>\n",
       "      <td>d270c4864c14f32fbd7ded07e5a3191c11112480</td>\n",
       "      <td>mole/stat_corr/window_wall_ratio_east_AVG_by_b...</td>\n",
       "      <td>UdK-VPT/Open_eQuarter</td>\n",
       "      <td>512</td>\n",
       "      <td>[math, numpy, oeqCorrelation]</td>\n",
       "    </tr>\n",
       "  </tbody>\n",
       "</table>\n",
       "</div>"
      ],
      "text/plain": [
       "   binary                                            content  copies  \\\n",
       "12  False  #!/usr/bin/env python\\nimport os\\nimport sys\\n...       1   \n",
       "13  False  class TRECS_IMAGE(DataClassification):\\n    na...       1   \n",
       "14  False  import urllib2\\n\\ni = 1\\ncon = urllib2.urlopen...       1   \n",
       "15  False  # -*- coding: utf-8 -*-\\n\\n\"\"\"\\nFunctions for ...       1   \n",
       "16  False  # OeQ autogenerated correlation for 'Window/Wa...       1   \n",
       "\n",
       "                                          id  \\\n",
       "12  57bd95b174f569a8a8463182feb9f85cab63a1a8   \n",
       "13  8dd5ebb2bac27e9762e3c56fb00234a09ecc3806   \n",
       "14  6d158b74c2e67e6f597b77c2f329374c94953937   \n",
       "15  68115582fcec043538bd6524b464522f8eac6ca5   \n",
       "16  d270c4864c14f32fbd7ded07e5a3191c11112480   \n",
       "\n",
       "                                          sample_path  \\\n",
       "12                                          manage.py   \n",
       "13  trunk/dontload-astrodata_Gemini/ADCONFIG_Gemin...   \n",
       "14                                     scripts/img.py   \n",
       "15                            sheldon/utils/logger.py   \n",
       "16  mole/stat_corr/window_wall_ratio_east_AVG_by_b...   \n",
       "\n",
       "                 sample_repo_name  size                              packages  \n",
       "12  allenmyao/cs242-message-board   256  [os, sys, execute_from_command_line]  \n",
       "13         pyrrho314/recipesystem   256                                   NaN  \n",
       "14               XiaJieCom/change   256                             [urllib2]  \n",
       "15            sevazhidkov/sheldon   512                             [logging]  \n",
       "16          UdK-VPT/Open_eQuarter   512         [math, numpy, oeqCorrelation]  "
      ]
     },
     "execution_count": 75,
     "metadata": {},
     "output_type": "execute_result"
    }
   ],
   "source": [
    "df.head()"
   ]
  },
  {
   "cell_type": "code",
   "execution_count": 78,
   "metadata": {
    "collapsed": false
   },
   "outputs": [
    {
     "name": "stdout",
     "output_type": "stream",
     "text": [
      "<class 'pandas.core.frame.DataFrame'>\n",
      "Int64Index: 24804 entries, 12 to 24817\n",
      "Data columns (total 8 columns):\n",
      "binary              24804 non-null bool\n",
      "content             24804 non-null object\n",
      "copies              24804 non-null int64\n",
      "id                  24804 non-null object\n",
      "sample_path         24804 non-null object\n",
      "sample_repo_name    24804 non-null object\n",
      "size                24804 non-null int64\n",
      "packages            22648 non-null object\n",
      "dtypes: bool(1), int64(2), object(5)\n",
      "memory usage: 1.5+ MB\n"
     ]
    }
   ],
   "source": [
    "df.info()"
   ]
  },
  {
   "cell_type": "code",
   "execution_count": 79,
   "metadata": {
    "collapsed": false
   },
   "outputs": [],
   "source": [
    "# Remove code contents with no package imports\n",
    "df = df[df['packages'].notnull()]"
   ]
  },
  {
   "cell_type": "code",
   "execution_count": 80,
   "metadata": {
    "collapsed": false
   },
   "outputs": [
    {
     "name": "stdout",
     "output_type": "stream",
     "text": [
      "<class 'pandas.core.frame.DataFrame'>\n",
      "Int64Index: 22648 entries, 12 to 24817\n",
      "Data columns (total 8 columns):\n",
      "binary              22648 non-null bool\n",
      "content             22648 non-null object\n",
      "copies              22648 non-null int64\n",
      "id                  22648 non-null object\n",
      "sample_path         22648 non-null object\n",
      "sample_repo_name    22648 non-null object\n",
      "size                22648 non-null int64\n",
      "packages            22648 non-null object\n",
      "dtypes: bool(1), int64(2), object(5)\n",
      "memory usage: 1.4+ MB\n"
     ]
    }
   ],
   "source": [
    "df.info()"
   ]
  },
  {
   "cell_type": "code",
   "execution_count": null,
   "metadata": {
    "collapsed": true
   },
   "outputs": [],
   "source": []
  },
  {
   "cell_type": "markdown",
   "metadata": {},
   "source": [
    "# Plot top 20 package counts"
   ]
  },
  {
   "cell_type": "code",
   "execution_count": 100,
   "metadata": {
    "collapsed": true
   },
   "outputs": [],
   "source": [
    "# Count packages\n",
    "pkg_counter = Counter(chain(*(df['packages'].values)))\n",
    "# pkg_counter = sorted(pkg_counter.items(), key=lambda x: -x[1])"
   ]
  },
  {
   "cell_type": "code",
   "execution_count": 138,
   "metadata": {
    "collapsed": false
   },
   "outputs": [],
   "source": [
    "# Plot top 30\n",
    "def plot_top(counter, n=30, title='Packages'):\n",
    "    '''\n",
    "    Input (df_series): Pandas series of list of packages imported in code content\n",
    "    Input (n): top n packages by count to plot\n",
    "    Output: bar plot by count\n",
    "    '''\n",
    "    plot_df = pd.DataFrame(counter.most_common(n))\n",
    "    plot_df.columns = ['package', 'count']\n",
    "    g = sns.factorplot(x='package', y='count', data=plot_df, kind='bar', aspect=2, size=6)\n",
    "    g.set_xticklabels(rotation=90)\n",
    "    plt.title('Count of Top {} {}'.format(n, title))\n",
    "    plt.show()"
   ]
  },
  {
   "cell_type": "code",
   "execution_count": 139,
   "metadata": {
    "collapsed": false
   },
   "outputs": [
    {
     "data": {
      "image/png": "[encoded data removed]",
      "text/plain": [
       "<matplotlib.figure.Figure at 0x173d43210>"
      ]
     },
     "metadata": {},
     "output_type": "display_data"
    }
   ],
   "source": [
    "plot_top(pkg_counter, 30, 'Packages')"
   ]
  },
  {
   "cell_type": "markdown",
   "metadata": {},
   "source": [
    "# Create edge list and write to .tsv file"
   ]
  },
  {
   "cell_type": "code",
   "execution_count": 132,
   "metadata": {
    "collapsed": false
   },
   "outputs": [],
   "source": [
    "pkg_edges = []\n",
    "\n",
    "f = open('pkg_edges.tsv', 'w')\n",
    "\n",
    "for linked_pkgs in df['packages']:\n",
    "    for pkg_edge in combinations(linked_pkgs, 2):\n",
    "        # Append edge to list\n",
    "        pkg_edges.append(tuple(sorted(pkg_edge)))\n",
    "        # Write edge to file\n",
    "        f.write(\"{}\\t{}\\n\".format(pkg_edge[0], pkg_edge[1]))\n",
    "\n",
    "f.close()"
   ]
  },
  {
   "cell_type": "code",
   "execution_count": 122,
   "metadata": {
    "collapsed": false
   },
   "outputs": [],
   "source": [
    "# Count package pairs (edges)\n",
    "pkg_edge_counter = Counter(pkg_edges)"
   ]
  },
  {
   "cell_type": "code",
   "execution_count": 136,
   "metadata": {
    "collapsed": false
   },
   "outputs": [
    {
     "data": {
      "text/plain": [
       "[((u'os', u'sys'), 2144),\n",
       " ((u'os', u're'), 867),\n",
       " ((u'os', u'time'), 856),\n",
       " ((u'logging', u'os'), 770),\n",
       " ((u'sys', u'time'), 742),\n",
       " ((u're', u'sys'), 657),\n",
       " ((u'os', u'subprocess'), 607),\n",
       " ((u'logging', u'sys'), 522),\n",
       " ((u'__future__', u'os'), 520),\n",
       " ((u'datetime', u'os'), 512)]"
      ]
     },
     "execution_count": 136,
     "metadata": {},
     "output_type": "execute_result"
    }
   ],
   "source": [
    "pkg_edge_counter.most_common(10)"
   ]
  },
  {
   "cell_type": "markdown",
   "metadata": {},
   "source": [
    "# Plot top 30 package co-occurences in a file"
   ]
  },
  {
   "cell_type": "code",
   "execution_count": 140,
   "metadata": {
    "collapsed": false,
    "scrolled": true
   },
   "outputs": [
    {
     "data": {
      "image/png": "[encoded data removed]",
      "text/plain": [
       "<matplotlib.figure.Figure at 0x174d3d790>"
      ]
     },
     "metadata": {},
     "output_type": "display_data"
    }
   ],
   "source": [
    "plot_top(pkg_edge_counter, 30, 'Edges')"
   ]
  },
  {
   "cell_type": "code",
   "execution_count": 19,
   "metadata": {
    "collapsed": false
   },
   "outputs": [],
   "source": [
    "df_from = pd.DataFrame(list(df['pkg_from'].apply(lambda x: tuple(set(x))).values))"
   ]
  },
  {
   "cell_type": "code",
   "execution_count": 20,
   "metadata": {
    "collapsed": false
   },
   "outputs": [
    {
     "data": {
      "text/html": [
       "<div>\n",
       "<table border=\"1\" class=\"dataframe\">\n",
       "  <thead>\n",
       "    <tr style=\"text-align: right;\">\n",
       "      <th></th>\n",
       "      <th>0</th>\n",
       "      <th>1</th>\n",
       "      <th>2</th>\n",
       "      <th>3</th>\n",
       "      <th>4</th>\n",
       "      <th>5</th>\n",
       "      <th>6</th>\n",
       "      <th>7</th>\n",
       "      <th>8</th>\n",
       "      <th>9</th>\n",
       "      <th>...</th>\n",
       "      <th>35</th>\n",
       "      <th>36</th>\n",
       "      <th>37</th>\n",
       "      <th>38</th>\n",
       "      <th>39</th>\n",
       "      <th>40</th>\n",
       "      <th>41</th>\n",
       "      <th>42</th>\n",
       "      <th>43</th>\n",
       "      <th>44</th>\n",
       "    </tr>\n",
       "  </thead>\n",
       "  <tbody>\n",
       "    <tr>\n",
       "      <th>0</th>\n",
       "      <td>django</td>\n",
       "      <td>None</td>\n",
       "      <td>None</td>\n",
       "      <td>None</td>\n",
       "      <td>None</td>\n",
       "      <td>None</td>\n",
       "      <td>None</td>\n",
       "      <td>None</td>\n",
       "      <td>None</td>\n",
       "      <td>None</td>\n",
       "      <td>...</td>\n",
       "      <td>None</td>\n",
       "      <td>None</td>\n",
       "      <td>None</td>\n",
       "      <td>None</td>\n",
       "      <td>None</td>\n",
       "      <td>None</td>\n",
       "      <td>None</td>\n",
       "      <td>None</td>\n",
       "      <td>None</td>\n",
       "      <td>None</td>\n",
       "    </tr>\n",
       "    <tr>\n",
       "      <th>1</th>\n",
       "      <td>None</td>\n",
       "      <td>None</td>\n",
       "      <td>None</td>\n",
       "      <td>None</td>\n",
       "      <td>None</td>\n",
       "      <td>None</td>\n",
       "      <td>None</td>\n",
       "      <td>None</td>\n",
       "      <td>None</td>\n",
       "      <td>None</td>\n",
       "      <td>...</td>\n",
       "      <td>None</td>\n",
       "      <td>None</td>\n",
       "      <td>None</td>\n",
       "      <td>None</td>\n",
       "      <td>None</td>\n",
       "      <td>None</td>\n",
       "      <td>None</td>\n",
       "      <td>None</td>\n",
       "      <td>None</td>\n",
       "      <td>None</td>\n",
       "    </tr>\n",
       "    <tr>\n",
       "      <th>2</th>\n",
       "      <td>None</td>\n",
       "      <td>None</td>\n",
       "      <td>None</td>\n",
       "      <td>None</td>\n",
       "      <td>None</td>\n",
       "      <td>None</td>\n",
       "      <td>None</td>\n",
       "      <td>None</td>\n",
       "      <td>None</td>\n",
       "      <td>None</td>\n",
       "      <td>...</td>\n",
       "      <td>None</td>\n",
       "      <td>None</td>\n",
       "      <td>None</td>\n",
       "      <td>None</td>\n",
       "      <td>None</td>\n",
       "      <td>None</td>\n",
       "      <td>None</td>\n",
       "      <td>None</td>\n",
       "      <td>None</td>\n",
       "      <td>None</td>\n",
       "    </tr>\n",
       "    <tr>\n",
       "      <th>3</th>\n",
       "      <td>None</td>\n",
       "      <td>None</td>\n",
       "      <td>None</td>\n",
       "      <td>None</td>\n",
       "      <td>None</td>\n",
       "      <td>None</td>\n",
       "      <td>None</td>\n",
       "      <td>None</td>\n",
       "      <td>None</td>\n",
       "      <td>None</td>\n",
       "      <td>...</td>\n",
       "      <td>None</td>\n",
       "      <td>None</td>\n",
       "      <td>None</td>\n",
       "      <td>None</td>\n",
       "      <td>None</td>\n",
       "      <td>None</td>\n",
       "      <td>None</td>\n",
       "      <td>None</td>\n",
       "      <td>None</td>\n",
       "      <td>None</td>\n",
       "    </tr>\n",
       "    <tr>\n",
       "      <th>4</th>\n",
       "      <td>None</td>\n",
       "      <td>None</td>\n",
       "      <td>None</td>\n",
       "      <td>None</td>\n",
       "      <td>None</td>\n",
       "      <td>None</td>\n",
       "      <td>None</td>\n",
       "      <td>None</td>\n",
       "      <td>None</td>\n",
       "      <td>None</td>\n",
       "      <td>...</td>\n",
       "      <td>None</td>\n",
       "      <td>None</td>\n",
       "      <td>None</td>\n",
       "      <td>None</td>\n",
       "      <td>None</td>\n",
       "      <td>None</td>\n",
       "      <td>None</td>\n",
       "      <td>None</td>\n",
       "      <td>None</td>\n",
       "      <td>None</td>\n",
       "    </tr>\n",
       "  </tbody>\n",
       "</table>\n",
       "<p>5 rows × 45 columns</p>\n",
       "</div>"
      ],
      "text/plain": [
       "       0     1     2     3     4     5     6     7     8     9   ...     35  \\\n",
       "0  django  None  None  None  None  None  None  None  None  None  ...   None   \n",
       "1    None  None  None  None  None  None  None  None  None  None  ...   None   \n",
       "2    None  None  None  None  None  None  None  None  None  None  ...   None   \n",
       "3    None  None  None  None  None  None  None  None  None  None  ...   None   \n",
       "4    None  None  None  None  None  None  None  None  None  None  ...   None   \n",
       "\n",
       "     36    37    38    39    40    41    42    43    44  \n",
       "0  None  None  None  None  None  None  None  None  None  \n",
       "1  None  None  None  None  None  None  None  None  None  \n",
       "2  None  None  None  None  None  None  None  None  None  \n",
       "3  None  None  None  None  None  None  None  None  None  \n",
       "4  None  None  None  None  None  None  None  None  None  \n",
       "\n",
       "[5 rows x 45 columns]"
      ]
     },
     "execution_count": 20,
     "metadata": {},
     "output_type": "execute_result"
    }
   ],
   "source": [
    "df_from.head()"
   ]
  },
  {
   "cell_type": "code",
   "execution_count": 21,
   "metadata": {
    "collapsed": true
   },
   "outputs": [],
   "source": [
    "df_import = pd.DataFrame(list(df['pkg_import'].apply(lambda x: tuple(set(x))).values))"
   ]
  },
  {
   "cell_type": "code",
   "execution_count": 22,
   "metadata": {
    "collapsed": false
   },
   "outputs": [
    {
     "data": {
      "text/html": [
       "<div>\n",
       "<table border=\"1\" class=\"dataframe\">\n",
       "  <thead>\n",
       "    <tr style=\"text-align: right;\">\n",
       "      <th></th>\n",
       "      <th>0</th>\n",
       "      <th>1</th>\n",
       "      <th>2</th>\n",
       "      <th>3</th>\n",
       "      <th>4</th>\n",
       "      <th>5</th>\n",
       "      <th>6</th>\n",
       "      <th>7</th>\n",
       "      <th>8</th>\n",
       "      <th>9</th>\n",
       "      <th>...</th>\n",
       "      <th>490</th>\n",
       "      <th>491</th>\n",
       "      <th>492</th>\n",
       "      <th>493</th>\n",
       "      <th>494</th>\n",
       "      <th>495</th>\n",
       "      <th>496</th>\n",
       "      <th>497</th>\n",
       "      <th>498</th>\n",
       "      <th>499</th>\n",
       "    </tr>\n",
       "  </thead>\n",
       "  <tbody>\n",
       "    <tr>\n",
       "      <th>0</th>\n",
       "      <td>sys</td>\n",
       "      <td>os</td>\n",
       "      <td>execute_from_command_line</td>\n",
       "      <td>None</td>\n",
       "      <td>None</td>\n",
       "      <td>None</td>\n",
       "      <td>None</td>\n",
       "      <td>None</td>\n",
       "      <td>None</td>\n",
       "      <td>None</td>\n",
       "      <td>...</td>\n",
       "      <td>None</td>\n",
       "      <td>None</td>\n",
       "      <td>None</td>\n",
       "      <td>None</td>\n",
       "      <td>None</td>\n",
       "      <td>None</td>\n",
       "      <td>None</td>\n",
       "      <td>None</td>\n",
       "      <td>None</td>\n",
       "      <td>None</td>\n",
       "    </tr>\n",
       "    <tr>\n",
       "      <th>1</th>\n",
       "      <td>None</td>\n",
       "      <td>None</td>\n",
       "      <td>None</td>\n",
       "      <td>None</td>\n",
       "      <td>None</td>\n",
       "      <td>None</td>\n",
       "      <td>None</td>\n",
       "      <td>None</td>\n",
       "      <td>None</td>\n",
       "      <td>None</td>\n",
       "      <td>...</td>\n",
       "      <td>None</td>\n",
       "      <td>None</td>\n",
       "      <td>None</td>\n",
       "      <td>None</td>\n",
       "      <td>None</td>\n",
       "      <td>None</td>\n",
       "      <td>None</td>\n",
       "      <td>None</td>\n",
       "      <td>None</td>\n",
       "      <td>None</td>\n",
       "    </tr>\n",
       "    <tr>\n",
       "      <th>2</th>\n",
       "      <td>urllib2</td>\n",
       "      <td>None</td>\n",
       "      <td>None</td>\n",
       "      <td>None</td>\n",
       "      <td>None</td>\n",
       "      <td>None</td>\n",
       "      <td>None</td>\n",
       "      <td>None</td>\n",
       "      <td>None</td>\n",
       "      <td>None</td>\n",
       "      <td>...</td>\n",
       "      <td>None</td>\n",
       "      <td>None</td>\n",
       "      <td>None</td>\n",
       "      <td>None</td>\n",
       "      <td>None</td>\n",
       "      <td>None</td>\n",
       "      <td>None</td>\n",
       "      <td>None</td>\n",
       "      <td>None</td>\n",
       "      <td>None</td>\n",
       "    </tr>\n",
       "    <tr>\n",
       "      <th>3</th>\n",
       "      <td>logging</td>\n",
       "      <td>None</td>\n",
       "      <td>None</td>\n",
       "      <td>None</td>\n",
       "      <td>None</td>\n",
       "      <td>None</td>\n",
       "      <td>None</td>\n",
       "      <td>None</td>\n",
       "      <td>None</td>\n",
       "      <td>None</td>\n",
       "      <td>...</td>\n",
       "      <td>None</td>\n",
       "      <td>None</td>\n",
       "      <td>None</td>\n",
       "      <td>None</td>\n",
       "      <td>None</td>\n",
       "      <td>None</td>\n",
       "      <td>None</td>\n",
       "      <td>None</td>\n",
       "      <td>None</td>\n",
       "      <td>None</td>\n",
       "    </tr>\n",
       "    <tr>\n",
       "      <th>4</th>\n",
       "      <td>numpy</td>\n",
       "      <td>oeqCorrelation</td>\n",
       "      <td>math</td>\n",
       "      <td>None</td>\n",
       "      <td>None</td>\n",
       "      <td>None</td>\n",
       "      <td>None</td>\n",
       "      <td>None</td>\n",
       "      <td>None</td>\n",
       "      <td>None</td>\n",
       "      <td>...</td>\n",
       "      <td>None</td>\n",
       "      <td>None</td>\n",
       "      <td>None</td>\n",
       "      <td>None</td>\n",
       "      <td>None</td>\n",
       "      <td>None</td>\n",
       "      <td>None</td>\n",
       "      <td>None</td>\n",
       "      <td>None</td>\n",
       "      <td>None</td>\n",
       "    </tr>\n",
       "  </tbody>\n",
       "</table>\n",
       "<p>5 rows × 500 columns</p>\n",
       "</div>"
      ],
      "text/plain": [
       "       0               1                          2     3     4     5     6    \\\n",
       "0      sys              os  execute_from_command_line  None  None  None  None   \n",
       "1     None            None                       None  None  None  None  None   \n",
       "2  urllib2            None                       None  None  None  None  None   \n",
       "3  logging            None                       None  None  None  None  None   \n",
       "4    numpy  oeqCorrelation                       math  None  None  None  None   \n",
       "\n",
       "    7     8     9    ...    490   491   492   493   494   495   496   497  \\\n",
       "0  None  None  None  ...   None  None  None  None  None  None  None  None   \n",
       "1  None  None  None  ...   None  None  None  None  None  None  None  None   \n",
       "2  None  None  None  ...   None  None  None  None  None  None  None  None   \n",
       "3  None  None  None  ...   None  None  None  None  None  None  None  None   \n",
       "4  None  None  None  ...   None  None  None  None  None  None  None  None   \n",
       "\n",
       "    498   499  \n",
       "0  None  None  \n",
       "1  None  None  \n",
       "2  None  None  \n",
       "3  None  None  \n",
       "4  None  None  \n",
       "\n",
       "[5 rows x 500 columns]"
      ]
     },
     "execution_count": 22,
     "metadata": {},
     "output_type": "execute_result"
    }
   ],
   "source": [
    "df_import.head()"
   ]
  }
 ],
 "metadata": {
  "anaconda-cloud": {},
  "kernelspec": {
   "display_name": "Python [Root]",
   "language": "python",
   "name": "Python [Root]"
  },
  "language_info": {
   "codemirror_mode": {
    "name": "ipython",
    "version": 2
   },
   "file_extension": ".py",
   "mimetype": "text/x-python",
   "name": "python",
   "nbconvert_exporter": "python",
   "pygments_lexer": "ipython2",
   "version": "2.7.12"
  }
 },
 "nbformat": 4,
 "nbformat_minor": 0
}
